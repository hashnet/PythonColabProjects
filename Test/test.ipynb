{
  "nbformat": 4,
  "nbformat_minor": 0,
  "metadata": {
    "colab": {
      "name": "Untitled0.ipynb",
      "version": "0.3.2",
      "provenance": [],
      "toc_visible": true,
      "include_colab_link": true
    },
    "kernelspec": {
      "name": "python3",
      "display_name": "Python 3"
    },
    "accelerator": "GPU"
  },
  "cells": [
    {
      "cell_type": "markdown",
      "metadata": {
        "id": "view-in-github",
        "colab_type": "text"
      },
      "source": [
        "<a href=\"https://colab.research.google.com/github/hashnet/PythonColabProjects/blob/master/Test/test.ipynb\" target=\"_parent\"><img src=\"https://colab.research.google.com/assets/colab-badge.svg\" alt=\"Open In Colab\"/></a>"
      ]
    },
    {
      "cell_type": "code",
      "metadata": {
        "id": "CpEwb7rsrDxZ",
        "colab_type": "code",
        "outputId": "0b972dd0-5d76-4cd3-d725-353c673eb9d8",
        "colab": {
          "base_uri": "https://localhost:8080/",
          "height": 102
        }
      },
      "source": [
        "!ls -la"
      ],
      "execution_count": 0,
      "outputs": [
        {
          "output_type": "stream",
          "text": [
            "total 16\n",
            "drwxr-xr-x 1 root root 4096 May 31 16:17 .\n",
            "drwxr-xr-x 1 root root 4096 Jun  4 04:07 ..\n",
            "drwxr-xr-x 1 root root 4096 May 31 16:17 .config\n",
            "drwxr-xr-x 1 root root 4096 May 31 16:17 sample_data\n"
          ],
          "name": "stdout"
        }
      ]
    },
    {
      "cell_type": "code",
      "metadata": {
        "id": "dpGhmd0PrRce",
        "colab_type": "code",
        "colab": {}
      },
      "source": [
        "!mkdir Test"
      ],
      "execution_count": 0,
      "outputs": []
    },
    {
      "cell_type": "code",
      "metadata": {
        "id": "TXG0306Lsivz",
        "colab_type": "code",
        "outputId": "3dc7ffac-d1d5-4802-91e5-031316e92d75",
        "colab": {
          "base_uri": "https://localhost:8080/",
          "height": 102
        }
      },
      "source": [
        "!ls -la"
      ],
      "execution_count": 0,
      "outputs": [
        {
          "output_type": "stream",
          "text": [
            "total 16\n",
            "drwxr-xr-x 1 root root 4096 Jun  4 04:16 .\n",
            "drwxr-xr-x 1 root root 4096 Jun  4 04:07 ..\n",
            "drwxr-xr-x 1 root root 4096 May 31 16:17 .config\n",
            "drwxr-xr-x 1 root root 4096 May 31 16:17 sample_data\n"
          ],
          "name": "stdout"
        }
      ]
    },
    {
      "cell_type": "code",
      "metadata": {
        "id": "k-GyCETUslE-",
        "colab_type": "code",
        "colab": {}
      },
      "source": [
        "!cd .."
      ],
      "execution_count": 0,
      "outputs": []
    },
    {
      "cell_type": "code",
      "metadata": {
        "id": "_ddFDjJhsrfn",
        "colab_type": "code",
        "outputId": "4df034ac-bf92-445d-abe7-64a038f56091",
        "colab": {
          "base_uri": "https://localhost:8080/",
          "height": 34
        }
      },
      "source": [
        "!pwd"
      ],
      "execution_count": 0,
      "outputs": [
        {
          "output_type": "stream",
          "text": [
            "/content\n"
          ],
          "name": "stdout"
        }
      ]
    },
    {
      "cell_type": "code",
      "metadata": {
        "id": "DOQT7uc9sthz",
        "colab_type": "code",
        "colab": {}
      },
      "source": [
        "!rm -r Sample_data"
      ],
      "execution_count": 0,
      "outputs": []
    }
  ]
}